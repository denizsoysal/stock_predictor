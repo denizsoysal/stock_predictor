{
 "cells": [
  {
   "cell_type": "code",
   "execution_count": 1,
   "id": "36f1e8be",
   "metadata": {},
   "outputs": [
    {
     "name": "stdout",
     "output_type": "stream",
     "text": [
      "Collecting yfinance\n",
      "  Downloading yfinance-0.2.12-py2.py3-none-any.whl (59 kB)\n",
      "Requirement already satisfied: html5lib>=1.1 in c:\\users\\deniz\\anaconda3\\lib\\site-packages (from yfinance) (1.1)\n",
      "Collecting multitasking>=0.0.7\n",
      "  Downloading multitasking-0.0.11-py3-none-any.whl (8.5 kB)\n",
      "Requirement already satisfied: numpy>=1.16.5 in c:\\users\\deniz\\anaconda3\\lib\\site-packages (from yfinance) (1.19.5)\n",
      "Collecting lxml>=4.9.1\n",
      "  Downloading lxml-4.9.2-cp38-cp38-win_amd64.whl (3.9 MB)\n",
      "Collecting beautifulsoup4>=4.11.1\n",
      "  Downloading beautifulsoup4-4.11.2-py3-none-any.whl (129 kB)\n",
      "Requirement already satisfied: appdirs>=1.4.4 in c:\\users\\deniz\\anaconda3\\lib\\site-packages (from yfinance) (1.4.4)\n",
      "Collecting frozendict>=2.3.4\n",
      "  Downloading frozendict-2.3.5-cp38-cp38-win_amd64.whl (35 kB)\n",
      "Collecting pytz>=2022.5\n",
      "  Downloading pytz-2022.7.1-py2.py3-none-any.whl (499 kB)\n",
      "Requirement already satisfied: cryptography>=3.3.2 in c:\\users\\deniz\\anaconda3\\lib\\site-packages (from yfinance) (3.4.8)\n",
      "Requirement already satisfied: pandas>=1.3.0 in c:\\users\\deniz\\anaconda3\\lib\\site-packages (from yfinance) (1.3.4)\n",
      "Requirement already satisfied: requests>=2.26 in c:\\users\\deniz\\anaconda3\\lib\\site-packages (from yfinance) (2.26.0)\n",
      "Requirement already satisfied: soupsieve>1.2 in c:\\users\\deniz\\anaconda3\\lib\\site-packages (from beautifulsoup4>=4.11.1->yfinance) (2.2.1)\n",
      "Requirement already satisfied: cffi>=1.12 in c:\\users\\deniz\\anaconda3\\lib\\site-packages (from cryptography>=3.3.2->yfinance) (1.14.6)\n",
      "Requirement already satisfied: pycparser in c:\\users\\deniz\\anaconda3\\lib\\site-packages (from cffi>=1.12->cryptography>=3.3.2->yfinance) (2.20)\n",
      "Requirement already satisfied: six>=1.9 in c:\\users\\deniz\\anaconda3\\lib\\site-packages (from html5lib>=1.1->yfinance) (1.16.0)\n",
      "Requirement already satisfied: webencodings in c:\\users\\deniz\\anaconda3\\lib\\site-packages (from html5lib>=1.1->yfinance) (0.5.1)\n",
      "Requirement already satisfied: python-dateutil>=2.7.3 in c:\\users\\deniz\\anaconda3\\lib\\site-packages (from pandas>=1.3.0->yfinance) (2.8.2)\n",
      "Requirement already satisfied: urllib3<1.27,>=1.21.1 in c:\\users\\deniz\\anaconda3\\lib\\site-packages (from requests>=2.26->yfinance) (1.26.7)\n",
      "Requirement already satisfied: charset-normalizer~=2.0.0 in c:\\users\\deniz\\anaconda3\\lib\\site-packages (from requests>=2.26->yfinance) (2.0.4)\n",
      "Requirement already satisfied: certifi>=2017.4.17 in c:\\users\\deniz\\anaconda3\\lib\\site-packages (from requests>=2.26->yfinance) (2022.5.18.1)\n",
      "Requirement already satisfied: idna<4,>=2.5 in c:\\users\\deniz\\anaconda3\\lib\\site-packages (from requests>=2.26->yfinance) (3.2)\n",
      "Installing collected packages: pytz, multitasking, lxml, frozendict, beautifulsoup4, yfinance\n",
      "  Attempting uninstall: pytz\n",
      "    Found existing installation: pytz 2021.3\n",
      "    Uninstalling pytz-2021.3:\n",
      "      Successfully uninstalled pytz-2021.3\n",
      "  Attempting uninstall: lxml\n",
      "    Found existing installation: lxml 4.6.3\n",
      "    Uninstalling lxml-4.6.3:\n",
      "      Successfully uninstalled lxml-4.6.3\n",
      "  Attempting uninstall: beautifulsoup4\n",
      "    Found existing installation: beautifulsoup4 4.10.0\n",
      "    Uninstalling beautifulsoup4-4.10.0:\n",
      "      Successfully uninstalled beautifulsoup4-4.10.0\n",
      "Successfully installed beautifulsoup4-4.11.2 frozendict-2.3.5 lxml-4.9.2 multitasking-0.0.11 pytz-2022.7.1 yfinance-0.2.12\n",
      "Note: you may need to restart the kernel to use updated packages.\n"
     ]
    },
    {
     "name": "stderr",
     "output_type": "stream",
     "text": [
      "ERROR: pip's dependency resolver does not currently take into account all the packages that are installed. This behaviour is the source of the following dependency conflicts.\n",
      "conda-repo-cli 1.0.4 requires pathlib, which is not installed.\n"
     ]
    }
   ],
   "source": [
    "pip install yfinance"
   ]
  },
  {
   "cell_type": "code",
   "execution_count": 15,
   "id": "cf47168b",
   "metadata": {},
   "outputs": [
    {
     "data": {
      "text/html": [
       "<div>\n",
       "<style scoped>\n",
       "    .dataframe tbody tr th:only-of-type {\n",
       "        vertical-align: middle;\n",
       "    }\n",
       "\n",
       "    .dataframe tbody tr th {\n",
       "        vertical-align: top;\n",
       "    }\n",
       "\n",
       "    .dataframe thead th {\n",
       "        text-align: right;\n",
       "    }\n",
       "</style>\n",
       "<table border=\"1\" class=\"dataframe\">\n",
       "  <thead>\n",
       "    <tr style=\"text-align: right;\">\n",
       "      <th></th>\n",
       "      <th>Date</th>\n",
       "      <th>Open</th>\n",
       "      <th>High</th>\n",
       "      <th>Low</th>\n",
       "      <th>Close</th>\n",
       "      <th>Volume</th>\n",
       "      <th>Dividends</th>\n",
       "      <th>Stock Splits</th>\n",
       "    </tr>\n",
       "  </thead>\n",
       "  <tbody>\n",
       "    <tr>\n",
       "      <th>0</th>\n",
       "      <td>2022-02-18 00:00:00-05:00</td>\n",
       "      <td>295.333344</td>\n",
       "      <td>295.623322</td>\n",
       "      <td>279.203339</td>\n",
       "      <td>285.660004</td>\n",
       "      <td>68501700</td>\n",
       "      <td>0.0</td>\n",
       "      <td>0.0</td>\n",
       "    </tr>\n",
       "    <tr>\n",
       "      <th>1</th>\n",
       "      <td>2022-02-22 00:00:00-05:00</td>\n",
       "      <td>278.043335</td>\n",
       "      <td>285.576660</td>\n",
       "      <td>267.033325</td>\n",
       "      <td>273.843323</td>\n",
       "      <td>83288100</td>\n",
       "      <td>0.0</td>\n",
       "      <td>0.0</td>\n",
       "    </tr>\n",
       "    <tr>\n",
       "      <th>2</th>\n",
       "      <td>2022-02-23 00:00:00-05:00</td>\n",
       "      <td>276.809998</td>\n",
       "      <td>278.433319</td>\n",
       "      <td>253.520004</td>\n",
       "      <td>254.679993</td>\n",
       "      <td>95256900</td>\n",
       "      <td>0.0</td>\n",
       "      <td>0.0</td>\n",
       "    </tr>\n",
       "    <tr>\n",
       "      <th>3</th>\n",
       "      <td>2022-02-24 00:00:00-05:00</td>\n",
       "      <td>233.463333</td>\n",
       "      <td>267.493347</td>\n",
       "      <td>233.333328</td>\n",
       "      <td>266.923340</td>\n",
       "      <td>135322200</td>\n",
       "      <td>0.0</td>\n",
       "      <td>0.0</td>\n",
       "    </tr>\n",
       "    <tr>\n",
       "      <th>4</th>\n",
       "      <td>2022-02-25 00:00:00-05:00</td>\n",
       "      <td>269.743347</td>\n",
       "      <td>273.166656</td>\n",
       "      <td>260.799988</td>\n",
       "      <td>269.956665</td>\n",
       "      <td>76067700</td>\n",
       "      <td>0.0</td>\n",
       "      <td>0.0</td>\n",
       "    </tr>\n",
       "  </tbody>\n",
       "</table>\n",
       "</div>"
      ],
      "text/plain": [
       "                       Date        Open        High         Low       Close  \\\n",
       "0 2022-02-18 00:00:00-05:00  295.333344  295.623322  279.203339  285.660004   \n",
       "1 2022-02-22 00:00:00-05:00  278.043335  285.576660  267.033325  273.843323   \n",
       "2 2022-02-23 00:00:00-05:00  276.809998  278.433319  253.520004  254.679993   \n",
       "3 2022-02-24 00:00:00-05:00  233.463333  267.493347  233.333328  266.923340   \n",
       "4 2022-02-25 00:00:00-05:00  269.743347  273.166656  260.799988  269.956665   \n",
       "\n",
       "      Volume  Dividends  Stock Splits  \n",
       "0   68501700        0.0           0.0  \n",
       "1   83288100        0.0           0.0  \n",
       "2   95256900        0.0           0.0  \n",
       "3  135322200        0.0           0.0  \n",
       "4   76067700        0.0           0.0  "
      ]
     },
     "execution_count": 15,
     "metadata": {},
     "output_type": "execute_result"
    }
   ],
   "source": [
    "import yfinance as yf\n",
    "import matplotlib.pyplot as plt\n",
    "tesla=yf.Ticker('TSLA')\n",
    "tesla_data=tesla.history(period=\"12mo\")\n",
    "tesla_data.reset_index(inplace=True)\n",
    "tesla_data.head()"
   ]
  },
  {
   "cell_type": "code",
   "execution_count": 16,
   "id": "21d8da70",
   "metadata": {},
   "outputs": [
    {
     "name": "stdout",
     "output_type": "stream",
     "text": [
      "                         Date        Open        High         Low       Close  \\\n",
      "0   2022-02-18 00:00:00-05:00  295.333344  295.623322  279.203339  285.660004   \n",
      "1   2022-02-22 00:00:00-05:00  278.043335  285.576660  267.033325  273.843323   \n",
      "2   2022-02-23 00:00:00-05:00  276.809998  278.433319  253.520004  254.679993   \n",
      "3   2022-02-24 00:00:00-05:00  233.463333  267.493347  233.333328  266.923340   \n",
      "4   2022-02-25 00:00:00-05:00  269.743347  273.166656  260.799988  269.956665   \n",
      "..                        ...         ...         ...         ...         ...   \n",
      "246 2023-02-13 00:00:00-05:00  194.419998  196.300003  187.610001  194.639999   \n",
      "247 2023-02-14 00:00:00-05:00  191.940002  209.820007  189.440002  209.250000   \n",
      "248 2023-02-15 00:00:00-05:00  211.759995  214.660004  206.110001  214.240005   \n",
      "249 2023-02-16 00:00:00-05:00  210.779999  217.649994  201.839996  202.039993   \n",
      "250 2023-02-17 00:00:00-05:00  199.990005  208.440002  197.500000  208.309998   \n",
      "\n",
      "        Volume  Dividends  Stock Splits  \n",
      "0     68501700        0.0           0.0  \n",
      "1     83288100        0.0           0.0  \n",
      "2     95256900        0.0           0.0  \n",
      "3    135322200        0.0           0.0  \n",
      "4     76067700        0.0           0.0  \n",
      "..         ...        ...           ...  \n",
      "246  172475500        0.0           0.0  \n",
      "247  216455700        0.0           0.0  \n",
      "248  182108600        0.0           0.0  \n",
      "249  229586500        0.0           0.0  \n",
      "250  213080200        0.0           0.0  \n",
      "\n",
      "[251 rows x 8 columns]\n"
     ]
    }
   ],
   "source": [
    "print(tesla_data)"
   ]
  },
  {
   "cell_type": "code",
   "execution_count": 17,
   "id": "550f822c",
   "metadata": {},
   "outputs": [],
   "source": [
    "price_low = tesla_data[\"High\"]"
   ]
  },
  {
   "cell_type": "code",
   "execution_count": 18,
   "id": "e400c752",
   "metadata": {},
   "outputs": [
    {
     "name": "stdout",
     "output_type": "stream",
     "text": [
      "0      295.623322\n",
      "1      285.576660\n",
      "2      278.433319\n",
      "3      267.493347\n",
      "4      273.166656\n",
      "          ...    \n",
      "246    196.300003\n",
      "247    209.820007\n",
      "248    214.660004\n",
      "249    217.649994\n",
      "250    208.440002\n",
      "Name: High, Length: 251, dtype: float64\n"
     ]
    }
   ],
   "source": [
    "print(price_low)"
   ]
  },
  {
   "cell_type": "code",
   "execution_count": 20,
   "id": "d8755d9f",
   "metadata": {},
   "outputs": [
    {
     "data": {
      "text/plain": [
       "Text(0, 0.5, 'Prices ($)')"
      ]
     },
     "execution_count": 20,
     "metadata": {},
     "output_type": "execute_result"
    },
    {
     "data": {
      "image/png": "[encoded data removed]",
      "text/plain": [
       "<Figure size 1080x576 with 1 Axes>"
      ]
     },
     "metadata": {
      "needs_background": "light"
     },
     "output_type": "display_data"
    }
   ],
   "source": [
    "plt.figure(figsize=(15, 8))\n",
    "plt.title('Stock Prices History of Tesla stock for the last 12 months')\n",
    "plt.plot(price_low)\n",
    "plt.xlabel('Date')\n",
    "plt.ylabel('Prices ($)')"
   ]
  },
  {
   "cell_type": "code",
   "execution_count": null,
   "id": "21026001",
   "metadata": {},
   "outputs": [],
   "source": []
  }
 ],
 "metadata": {
  "kernelspec": {
   "display_name": "Python 3 (ipykernel)",
   "language": "python",
   "name": "python3"
  },
  "language_info": {
   "codemirror_mode": {
    "name": "ipython",
    "version": 3
   },
   "file_extension": ".py",
   "mimetype": "text/x-python",
   "name": "python",
   "nbconvert_exporter": "python",
   "pygments_lexer": "ipython3",
   "version": "3.8.12"
  }
 },
 "nbformat": 4,
 "nbformat_minor": 5
}
